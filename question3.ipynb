{
  "cells": [
    {
      "cell_type": "code",
      "source": [
        "from nltk.tokenize import word_tokenize\r\n",
        "from string import punctuation\r\n",
        "import pandas as pd "
      ],
      "outputs": [],
      "execution_count": 35,
      "metadata": {
        "gather": {
          "logged": 1662658736204
        }
      }
    },
    {
      "cell_type": "markdown",
      "source": [
        "# Part A."
      ],
      "metadata": {
        "nteract": {
          "transient": {
            "deleting": false
          }
        }
      }
    },
    {
      "cell_type": "code",
      "source": [
        "documents = \"\"\"As a term, data analytics predominantly refers to an assortment of applications, from basic busines\r\n",
        "intelligence (BI), reporting and online analytical processing (OLAP) to various forms of advanced\r\n",
        "analytics. In that sense, it's similar in nature to business analytics, another umbrella term for\r\n",
        "approaches to analyzing data -- with the difference that the latter is oriented to business uses, while\r\n",
        "data analytics has a broader focus. The expansive view of the term isn't universal, though: In some\r\n",
        "cases, people use data analytics specifically to mean advanced analytics, treating BI as a separate\r\n",
        "category. Data analytics initiatives can help businesses increase revenues, improve operational\r\n",
        "efficiency, optimize marketing campaigns and customer service efforts, respond more quickly to\r\n",
        "emerging market trends and gain a competitive edge over rivals -- all with the ultimate goal of\r\n",
        "boosting business performance. Depending on the particular application, the data that's analyzed\r\n",
        "can consist of either historical records or new information that has been processed for real-time\r\n",
        "analytics uses. In addition, it can come from a mix of internal systems and external data sources. At\r\n",
        "a high level, data analytics methodologies include exploratory data analysis (EDA), which aims to find\r\n",
        "patterns and relationships in data, and confirmatory data analysis (CDA), which applies statistical\r\n",
        "techniques to determine whether hypotheses about a data set are true or false. EDA is often\r\n",
        "compared to detective work, while CDA is akin to the work of a judge or jury during a court trial -- a\r\n",
        "distinction first drawn by statistician John W. Tukey in his 1977 book Exploratory Data Analysis. Data\r\n",
        "analytics can also be separated into quantitative data analysis and qualitative data analysis. The\r\n",
        "former involves analysis of numerical data with quantifiable variables that can be compared or\r\n",
        "measured statistically. The qualitative approach is more interpretive -- it focuses on understanding\r\n",
        "the content of non-numerical data like text, images, audio and video, including common phrases,\r\n",
        "themes and points of view.\"\"\""
      ],
      "outputs": [
        {
          "output_type": "execute_result",
          "execution_count": 21,
          "data": {
            "text/plain": "\"As a term, data analytics predominantly refers to an assortment of applications, from basic busines\\nintelligence (BI), reporting and online analytical processing (OLAP) to various forms of advanced\\nanalytics. In that sense, it's similar in nature to business analytics, another umbrella term for\\napproaches to analyzing data -- with the difference that the latter is oriented to business uses, while\\ndata analytics has a broader focus. The expansive view of the term isn't universal, though: In some\\ncases, people use data analytics specifically to mean advanced analytics, treating BI as a separate\\ncategory. Data analytics initiatives can help businesses increase revenues, improve operational\\nefficiency, optimize marketing campaigns and customer service efforts, respond more quickly to\\nemerging market trends and gain a competitive edge over rivals -- all with the ultimate goal of\\nboosting business performance. Depending on the particular application, the data that's analyzed\\ncan consist of either historical records or new information that has been processed for real-time\\nanalytics uses. In addition, it can come from a mix of internal systems and external data sources. At\\na high level, data analytics methodologies include exploratory data analysis (EDA), which aims to find\\npatterns and relationships in data, and confirmatory data analysis (CDA), which applies statistical\\ntechniques to determine whether hypotheses about a data set are true or false. EDA is often\\ncompared to detective work, while CDA is akin to the work of a judge or jury during a court trial -- a\\ndistinction first drawn by statistician John W. Tukey in his 1977 book Exploratory Data Analysis. Data\\nanalytics can also be separated into quantitative data analysis and qualitative data analysis. The\\nformer involves analysis of numerical data with quantifiable variables that can be compared or\\nmeasured statistically. The qualitative approach is more interpretive -- it focuses on understanding\\nthe content of non-numerical data like text, images, audio and video, including common phrases,\\nthemes and points of view.\""
          },
          "metadata": {}
        }
      ],
      "execution_count": 21,
      "metadata": {
        "jupyter": {
          "source_hidden": false,
          "outputs_hidden": false
        },
        "nteract": {
          "transient": {
            "deleting": false
          }
        },
        "gather": {
          "logged": 1662657858949
        }
      }
    },
    {
      "cell_type": "code",
      "source": [
        "# Preprocess the documents\r\n",
        "documents = documents.lower()\r\n",
        "sentences = documents.splitlines()\r\n",
        "sentences"
      ],
      "outputs": [
        {
          "output_type": "execute_result",
          "execution_count": 27,
          "data": {
            "text/plain": "['as a term, data analytics predominantly refers to an assortment of applications, from basic busines',\n 'intelligence (bi), reporting and online analytical processing (olap) to various forms of advanced',\n \"analytics. in that sense, it's similar in nature to business analytics, another umbrella term for\",\n 'approaches to analyzing data -- with the difference that the latter is oriented to business uses, while',\n \"data analytics has a broader focus. the expansive view of the term isn't universal, though: in some\",\n 'cases, people use data analytics specifically to mean advanced analytics, treating bi as a separate',\n 'category. data analytics initiatives can help businesses increase revenues, improve operational',\n 'efficiency, optimize marketing campaigns and customer service efforts, respond more quickly to',\n 'emerging market trends and gain a competitive edge over rivals -- all with the ultimate goal of',\n \"boosting business performance. depending on the particular application, the data that's analyzed\",\n 'can consist of either historical records or new information that has been processed for real-time',\n 'analytics uses. in addition, it can come from a mix of internal systems and external data sources. at',\n 'a high level, data analytics methodologies include exploratory data analysis (eda), which aims to find',\n 'patterns and relationships in data, and confirmatory data analysis (cda), which applies statistical',\n 'techniques to determine whether hypotheses about a data set are true or false. eda is often',\n 'compared to detective work, while cda is akin to the work of a judge or jury during a court trial -- a',\n 'distinction first drawn by statistician john w. tukey in his 1977 book exploratory data analysis. data',\n 'analytics can also be separated into quantitative data analysis and qualitative data analysis. the',\n 'former involves analysis of numerical data with quantifiable variables that can be compared or',\n 'measured statistically. the qualitative approach is more interpretive -- it focuses on understanding',\n 'the content of non-numerical data like text, images, audio and video, including common phrases,',\n 'themes and points of view.']"
          },
          "metadata": {}
        }
      ],
      "execution_count": 27,
      "metadata": {
        "jupyter": {
          "source_hidden": false,
          "outputs_hidden": false
        },
        "nteract": {
          "transient": {
            "deleting": false
          }
        },
        "gather": {
          "logged": 1662658226139
        }
      }
    },
    {
      "cell_type": "code",
      "source": [
        "# Count the probability of the \"data\" appearance in every line\r\n",
        "count = 0\r\n",
        "for i in range(len(sentences)):\r\n",
        "    count+=sentences[i].count('data')\r\n",
        "\r\n",
        "probability_of_data = count/len(sentences)\r\n",
        "print(\"Probability of data: \",probability_of_data)"
      ],
      "outputs": [
        {
          "output_type": "stream",
          "name": "stdout",
          "text": "Probability of data:  0.8181818181818182\n"
        }
      ],
      "execution_count": 68,
      "metadata": {
        "jupyter": {
          "source_hidden": false,
          "outputs_hidden": false
        },
        "nteract": {
          "transient": {
            "deleting": false
          }
        },
        "gather": {
          "logged": 1662660622595
        }
      }
    },
    {
      "cell_type": "markdown",
      "source": [
        "# Part B."
      ],
      "metadata": {
        "nteract": {
          "transient": {
            "deleting": false
          }
        }
      }
    },
    {
      "cell_type": "code",
      "source": [
        "# Count the number of words in each line (Removed punctuations)\r\n",
        "word_count = []\r\n",
        "for i in range(len(sentences)):\r\n",
        "    words = word_tokenize(sentences[i])\r\n",
        "    processed_words = [word for word in words if word not in punctuation]\r\n",
        "    word_count.append(len(set(processed_words)))\r\n",
        "\r\n",
        "word_count"
      ],
      "outputs": [
        {
          "output_type": "execute_result",
          "execution_count": 71,
          "data": {
            "text/plain": "[15,\n 13,\n 14,\n 15,\n 17,\n 14,\n 11,\n 12,\n 17,\n 12,\n 15,\n 18,\n 14,\n 11,\n 16,\n 18,\n 15,\n 12,\n 14,\n 13,\n 14,\n 5]"
          },
          "metadata": {}
        }
      ],
      "execution_count": 71,
      "metadata": {
        "jupyter": {
          "source_hidden": false,
          "outputs_hidden": false
        },
        "nteract": {
          "transient": {
            "deleting": false
          }
        },
        "gather": {
          "logged": 1662660865173
        }
      }
    },
    {
      "cell_type": "code",
      "source": [
        "word_df = pd.DataFrame(word_count,columns=[\"word_count\"])\r\n",
        "word_df"
      ],
      "outputs": [
        {
          "output_type": "execute_result",
          "execution_count": 72,
          "data": {
            "text/plain": "    word_count\n0           15\n1           13\n2           14\n3           15\n4           17\n5           14\n6           11\n7           12\n8           17\n9           12\n10          15\n11          18\n12          14\n13          11\n14          16\n15          18\n16          15\n17          12\n18          14\n19          13\n20          14\n21           5",
            "text/html": "<div>\n<style scoped>\n    .dataframe tbody tr th:only-of-type {\n        vertical-align: middle;\n    }\n\n    .dataframe tbody tr th {\n        vertical-align: top;\n    }\n\n    .dataframe thead th {\n        text-align: right;\n    }\n</style>\n<table border=\"1\" class=\"dataframe\">\n  <thead>\n    <tr style=\"text-align: right;\">\n      <th></th>\n      <th>word_count</th>\n    </tr>\n  </thead>\n  <tbody>\n    <tr>\n      <th>0</th>\n      <td>15</td>\n    </tr>\n    <tr>\n      <th>1</th>\n      <td>13</td>\n    </tr>\n    <tr>\n      <th>2</th>\n      <td>14</td>\n    </tr>\n    <tr>\n      <th>3</th>\n      <td>15</td>\n    </tr>\n    <tr>\n      <th>4</th>\n      <td>17</td>\n    </tr>\n    <tr>\n      <th>5</th>\n      <td>14</td>\n    </tr>\n    <tr>\n      <th>6</th>\n      <td>11</td>\n    </tr>\n    <tr>\n      <th>7</th>\n      <td>12</td>\n    </tr>\n    <tr>\n      <th>8</th>\n      <td>17</td>\n    </tr>\n    <tr>\n      <th>9</th>\n      <td>12</td>\n    </tr>\n    <tr>\n      <th>10</th>\n      <td>15</td>\n    </tr>\n    <tr>\n      <th>11</th>\n      <td>18</td>\n    </tr>\n    <tr>\n      <th>12</th>\n      <td>14</td>\n    </tr>\n    <tr>\n      <th>13</th>\n      <td>11</td>\n    </tr>\n    <tr>\n      <th>14</th>\n      <td>16</td>\n    </tr>\n    <tr>\n      <th>15</th>\n      <td>18</td>\n    </tr>\n    <tr>\n      <th>16</th>\n      <td>15</td>\n    </tr>\n    <tr>\n      <th>17</th>\n      <td>12</td>\n    </tr>\n    <tr>\n      <th>18</th>\n      <td>14</td>\n    </tr>\n    <tr>\n      <th>19</th>\n      <td>13</td>\n    </tr>\n    <tr>\n      <th>20</th>\n      <td>14</td>\n    </tr>\n    <tr>\n      <th>21</th>\n      <td>5</td>\n    </tr>\n  </tbody>\n</table>\n</div>"
          },
          "metadata": {}
        }
      ],
      "execution_count": 72,
      "metadata": {
        "jupyter": {
          "source_hidden": false,
          "outputs_hidden": false
        },
        "nteract": {
          "transient": {
            "deleting": false
          }
        },
        "gather": {
          "logged": 1662660870410
        }
      }
    },
    {
      "cell_type": "code",
      "source": [
        "word_df.hist()"
      ],
      "outputs": [
        {
          "output_type": "execute_result",
          "execution_count": 48,
          "data": {
            "text/plain": "array([[<matplotlib.axes._subplots.AxesSubplot object at 0x7ff4e85914f0>]],\n      dtype=object)"
          },
          "metadata": {}
        },
        {
          "output_type": "display_data",
          "data": {
            "text/plain": "<Figure size 432x288 with 1 Axes>",
            "image/png": "[encoded data removed]"
          },
          "metadata": {
            "needs_background": "light"
          }
        }
      ],
      "execution_count": 48,
      "metadata": {
        "jupyter": {
          "source_hidden": false,
          "outputs_hidden": false
        },
        "nteract": {
          "transient": {
            "deleting": false
          }
        },
        "gather": {
          "logged": 1662659014220
        }
      }
    },
    {
      "cell_type": "markdown",
      "source": [
        "## Summary\r\n",
        "- The distribution of distinct word count is normal distribution"
      ],
      "metadata": {
        "nteract": {
          "transient": {
            "deleting": false
          }
        }
      }
    },
    {
      "cell_type": "markdown",
      "source": [
        "# Part C."
      ],
      "metadata": {
        "nteract": {
          "transient": {
            "deleting": false
          }
        }
      }
    },
    {
      "cell_type": "code",
      "source": [
        "# count the probability of word \"analytics\" occuring after the word \"data\"\r\n",
        "data_analytics_count = documents.count(\"data analytics\")\r\n",
        "analytics_count = documents.count(\"analytics\")\r\n",
        "print(\"Probability of the word “analytics” occurring after the word “data” :\", data_analytics_count/analytics_count)"
      ],
      "outputs": [
        {
          "output_type": "stream",
          "name": "stdout",
          "text": "Probability of the word “analytics” occurring after the word “data” : 0.5\n"
        }
      ],
      "execution_count": 67,
      "metadata": {
        "jupyter": {
          "source_hidden": false,
          "outputs_hidden": false
        },
        "nteract": {
          "transient": {
            "deleting": false
          }
        },
        "gather": {
          "logged": 1662660379106
        }
      }
    }
  ],
  "metadata": {
    "kernelspec": {
      "name": "python38-azureml",
      "language": "python",
      "display_name": "Python 3.8 - AzureML"
    },
    "language_info": {
      "name": "python",
      "version": "3.8.5",
      "mimetype": "text/x-python",
      "codemirror_mode": {
        "name": "ipython",
        "version": 3
      },
      "pygments_lexer": "ipython3",
      "nbconvert_exporter": "python",
      "file_extension": ".py"
    },
    "kernel_info": {
      "name": "python38-azureml"
    },
    "nteract": {
      "version": "nteract-front-end@1.0.0"
    },
    "microsoft": {
      "host": {
        "AzureML": {
          "notebookHasBeenCompleted": true
        }
      }
    }
  },
  "nbformat": 4,
  "nbformat_minor": 2
}